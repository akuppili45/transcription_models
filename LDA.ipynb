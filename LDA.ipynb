{
 "cells": [
  {
   "cell_type": "code",
   "execution_count": 1,
   "id": "43b2d66f",
   "metadata": {},
   "outputs": [
    {
     "name": "stdout",
     "output_type": "stream",
     "text": [
      "Requirement already satisfied: bertopic in /Users/adityakuppili/opt/anaconda3/lib/python3.9/site-packages (0.15.0)\n",
      "Requirement already satisfied: pandas>=1.1.5 in /Users/adityakuppili/opt/anaconda3/lib/python3.9/site-packages (from bertopic) (1.3.4)\n",
      "Requirement already satisfied: numpy>=1.20.0 in /Users/adityakuppili/opt/anaconda3/lib/python3.9/site-packages (from bertopic) (1.20.3)\n",
      "Requirement already satisfied: tqdm>=4.41.1 in /Users/adityakuppili/opt/anaconda3/lib/python3.9/site-packages (from bertopic) (4.62.3)\n",
      "Requirement already satisfied: umap-learn>=0.5.0 in /Users/adityakuppili/opt/anaconda3/lib/python3.9/site-packages (from bertopic) (0.5.3)\n",
      "Requirement already satisfied: plotly>=4.7.0 in /Users/adityakuppili/opt/anaconda3/lib/python3.9/site-packages (from bertopic) (5.15.0)\n",
      "Requirement already satisfied: hdbscan>=0.8.29 in /Users/adityakuppili/opt/anaconda3/lib/python3.9/site-packages (from bertopic) (0.8.33)\n",
      "Requirement already satisfied: sentence-transformers>=0.4.1 in /Users/adityakuppili/opt/anaconda3/lib/python3.9/site-packages (from bertopic) (2.2.2)\n",
      "Requirement already satisfied: scikit-learn>=0.22.2.post1 in /Users/adityakuppili/opt/anaconda3/lib/python3.9/site-packages (from bertopic) (0.24.2)\n",
      "Requirement already satisfied: scipy>=1.0 in /Users/adityakuppili/opt/anaconda3/lib/python3.9/site-packages (from hdbscan>=0.8.29->bertopic) (1.7.1)\n",
      "Requirement already satisfied: cython<3,>=0.27 in /Users/adityakuppili/opt/anaconda3/lib/python3.9/site-packages (from hdbscan>=0.8.29->bertopic) (0.29.24)\n",
      "Requirement already satisfied: joblib>=1.0 in /Users/adityakuppili/opt/anaconda3/lib/python3.9/site-packages (from hdbscan>=0.8.29->bertopic) (1.1.0)\n",
      "Requirement already satisfied: python-dateutil>=2.7.3 in /Users/adityakuppili/opt/anaconda3/lib/python3.9/site-packages (from pandas>=1.1.5->bertopic) (2.8.2)\n",
      "Requirement already satisfied: pytz>=2017.3 in /Users/adityakuppili/opt/anaconda3/lib/python3.9/site-packages (from pandas>=1.1.5->bertopic) (2021.3)\n",
      "Requirement already satisfied: tenacity>=6.2.0 in /Users/adityakuppili/opt/anaconda3/lib/python3.9/site-packages (from plotly>=4.7.0->bertopic) (8.2.2)\n",
      "Requirement already satisfied: packaging in /Users/adityakuppili/opt/anaconda3/lib/python3.9/site-packages (from plotly>=4.7.0->bertopic) (21.0)\n",
      "Requirement already satisfied: threadpoolctl>=2.0.0 in /Users/adityakuppili/opt/anaconda3/lib/python3.9/site-packages (from scikit-learn>=0.22.2.post1->bertopic) (2.2.0)\n",
      "Requirement already satisfied: sentencepiece in /Users/adityakuppili/opt/anaconda3/lib/python3.9/site-packages (from sentence-transformers>=0.4.1->bertopic) (0.1.99)\n",
      "Requirement already satisfied: huggingface-hub>=0.4.0 in /Users/adityakuppili/opt/anaconda3/lib/python3.9/site-packages (from sentence-transformers>=0.4.1->bertopic) (0.16.4)\n",
      "Requirement already satisfied: torchvision in /Users/adityakuppili/opt/anaconda3/lib/python3.9/site-packages (from sentence-transformers>=0.4.1->bertopic) (0.11.3)\n",
      "Requirement already satisfied: nltk in /Users/adityakuppili/opt/anaconda3/lib/python3.9/site-packages (from sentence-transformers>=0.4.1->bertopic) (3.6.5)\n",
      "Requirement already satisfied: transformers<5.0.0,>=4.6.0 in /Users/adityakuppili/opt/anaconda3/lib/python3.9/site-packages (from sentence-transformers>=0.4.1->bertopic) (4.31.0)\n",
      "Requirement already satisfied: torch>=1.6.0 in /Users/adityakuppili/opt/anaconda3/lib/python3.9/site-packages (from sentence-transformers>=0.4.1->bertopic) (1.10.2)\n",
      "Requirement already satisfied: pynndescent>=0.5 in /Users/adityakuppili/opt/anaconda3/lib/python3.9/site-packages (from umap-learn>=0.5.0->bertopic) (0.5.10)\n",
      "Requirement already satisfied: numba>=0.49 in /Users/adityakuppili/opt/anaconda3/lib/python3.9/site-packages (from umap-learn>=0.5.0->bertopic) (0.54.1)\n",
      "Requirement already satisfied: pyyaml>=5.1 in /Users/adityakuppili/opt/anaconda3/lib/python3.9/site-packages (from huggingface-hub>=0.4.0->sentence-transformers>=0.4.1->bertopic) (6.0)\n",
      "Requirement already satisfied: fsspec in /Users/adityakuppili/opt/anaconda3/lib/python3.9/site-packages (from huggingface-hub>=0.4.0->sentence-transformers>=0.4.1->bertopic) (2023.6.0)\n",
      "Requirement already satisfied: filelock in /Users/adityakuppili/opt/anaconda3/lib/python3.9/site-packages (from huggingface-hub>=0.4.0->sentence-transformers>=0.4.1->bertopic) (3.3.1)\n",
      "Requirement already satisfied: typing-extensions>=3.7.4.3 in /Users/adityakuppili/opt/anaconda3/lib/python3.9/site-packages (from huggingface-hub>=0.4.0->sentence-transformers>=0.4.1->bertopic) (4.5.0)\n",
      "Requirement already satisfied: requests in /Users/adityakuppili/opt/anaconda3/lib/python3.9/site-packages (from huggingface-hub>=0.4.0->sentence-transformers>=0.4.1->bertopic) (2.26.0)\n",
      "Requirement already satisfied: llvmlite<0.38,>=0.37.0rc1 in /Users/adityakuppili/opt/anaconda3/lib/python3.9/site-packages (from numba>=0.49->umap-learn>=0.5.0->bertopic) (0.37.0)\n",
      "Requirement already satisfied: setuptools in /Users/adityakuppili/opt/anaconda3/lib/python3.9/site-packages (from numba>=0.49->umap-learn>=0.5.0->bertopic) (58.0.4)\n",
      "Requirement already satisfied: pyparsing>=2.0.2 in /Users/adityakuppili/opt/anaconda3/lib/python3.9/site-packages (from packaging->plotly>=4.7.0->bertopic) (3.0.4)\n",
      "Requirement already satisfied: six>=1.5 in /Users/adityakuppili/opt/anaconda3/lib/python3.9/site-packages (from python-dateutil>=2.7.3->pandas>=1.1.5->bertopic) (1.12.0)\n",
      "Requirement already satisfied: safetensors>=0.3.1 in /Users/adityakuppili/opt/anaconda3/lib/python3.9/site-packages (from transformers<5.0.0,>=4.6.0->sentence-transformers>=0.4.1->bertopic) (0.3.1)\n",
      "Requirement already satisfied: tokenizers!=0.11.3,<0.14,>=0.11.1 in /Users/adityakuppili/opt/anaconda3/lib/python3.9/site-packages (from transformers<5.0.0,>=4.6.0->sentence-transformers>=0.4.1->bertopic) (0.13.3)\n",
      "Requirement already satisfied: regex!=2019.12.17 in /Users/adityakuppili/opt/anaconda3/lib/python3.9/site-packages (from transformers<5.0.0,>=4.6.0->sentence-transformers>=0.4.1->bertopic) (2023.6.3)\n",
      "Requirement already satisfied: click in /Users/adityakuppili/opt/anaconda3/lib/python3.9/site-packages (from nltk->sentence-transformers>=0.4.1->bertopic) (8.0.3)\n",
      "Requirement already satisfied: pillow!=8.3.0,>=5.3.0 in /Users/adityakuppili/opt/anaconda3/lib/python3.9/site-packages (from torchvision->sentence-transformers>=0.4.1->bertopic) (8.4.0)\n",
      "Requirement already satisfied: urllib3<1.27,>=1.21.1 in /Users/adityakuppili/opt/anaconda3/lib/python3.9/site-packages (from requests->huggingface-hub>=0.4.0->sentence-transformers>=0.4.1->bertopic) (1.26.7)\n",
      "Requirement already satisfied: charset-normalizer~=2.0.0 in /Users/adityakuppili/opt/anaconda3/lib/python3.9/site-packages (from requests->huggingface-hub>=0.4.0->sentence-transformers>=0.4.1->bertopic) (2.0.4)\n",
      "Requirement already satisfied: certifi>=2017.4.17 in /Users/adityakuppili/opt/anaconda3/lib/python3.9/site-packages (from requests->huggingface-hub>=0.4.0->sentence-transformers>=0.4.1->bertopic) (2021.10.8)\n",
      "Requirement already satisfied: idna<4,>=2.5 in /Users/adityakuppili/opt/anaconda3/lib/python3.9/site-packages (from requests->huggingface-hub>=0.4.0->sentence-transformers>=0.4.1->bertopic) (3.2)\n",
      "\u001b[33mWARNING: You are using pip version 22.0.4; however, version 23.2.1 is available.\n",
      "You should consider upgrading via the '/Users/adityakuppili/opt/anaconda3/bin/python -m pip install --upgrade pip' command.\u001b[0m\u001b[33m\n",
      "\u001b[0m"
     ]
    }
   ],
   "source": [
    "!pip install bertopic"
   ]
  },
  {
   "cell_type": "code",
   "execution_count": 3,
   "id": "1dbf81eb",
   "metadata": {},
   "outputs": [
    {
     "data": {
      "application/vnd.jupyter.widget-view+json": {
       "model_id": "66ca2084a06a445a88fbc5839abd70b2",
       "version_major": 2,
       "version_minor": 0
      },
      "text/plain": [
       "Downloading (…)lve/main/topics.json:   0%|          | 0.00/263k [00:00<?, ?B/s]"
      ]
     },
     "metadata": {},
     "output_type": "display_data"
    },
    {
     "data": {
      "application/vnd.jupyter.widget-view+json": {
       "model_id": "0c7afbe5540a42a9991bd0688f6e9728",
       "version_major": 2,
       "version_minor": 0
      },
      "text/plain": [
       "Downloading (…)lve/main/config.json:   0%|          | 0.00/271 [00:00<?, ?B/s]"
      ]
     },
     "metadata": {},
     "output_type": "display_data"
    },
    {
     "data": {
      "application/vnd.jupyter.widget-view+json": {
       "model_id": "1a5edda7d6324e818570ae9547833bdc",
       "version_major": 2,
       "version_minor": 0
      },
      "text/plain": [
       "Downloading (…)beddings.safetensors:   0%|          | 0.00/230k [00:00<?, ?B/s]"
      ]
     },
     "metadata": {},
     "output_type": "display_data"
    },
    {
     "data": {
      "application/vnd.jupyter.widget-view+json": {
       "model_id": "8fda8b9e79bb437ca55435a3bea4c318",
       "version_major": 2,
       "version_minor": 0
      },
      "text/plain": [
       "Downloading (…)a8e1d/.gitattributes:   0%|          | 0.00/1.18k [00:00<?, ?B/s]"
      ]
     },
     "metadata": {},
     "output_type": "display_data"
    },
    {
     "data": {
      "application/vnd.jupyter.widget-view+json": {
       "model_id": "c6d82e60c3664dbe830c876bb7bfba14",
       "version_major": 2,
       "version_minor": 0
      },
      "text/plain": [
       "Downloading (…)_Pooling/config.json:   0%|          | 0.00/190 [00:00<?, ?B/s]"
      ]
     },
     "metadata": {},
     "output_type": "display_data"
    },
    {
     "data": {
      "application/vnd.jupyter.widget-view+json": {
       "model_id": "891f35783e1a4d39a09d1d832dc0a5bb",
       "version_major": 2,
       "version_minor": 0
      },
      "text/plain": [
       "Downloading (…)b20bca8e1d/README.md:   0%|          | 0.00/10.6k [00:00<?, ?B/s]"
      ]
     },
     "metadata": {},
     "output_type": "display_data"
    },
    {
     "data": {
      "application/vnd.jupyter.widget-view+json": {
       "model_id": "1e10b03fc923429fbd4ebf7ca24abf25",
       "version_major": 2,
       "version_minor": 0
      },
      "text/plain": [
       "Downloading (…)0bca8e1d/config.json:   0%|          | 0.00/571 [00:00<?, ?B/s]"
      ]
     },
     "metadata": {},
     "output_type": "display_data"
    },
    {
     "data": {
      "application/vnd.jupyter.widget-view+json": {
       "model_id": "cab35f3cead147789faba838a1230f56",
       "version_major": 2,
       "version_minor": 0
      },
      "text/plain": [
       "Downloading (…)ce_transformers.json:   0%|          | 0.00/116 [00:00<?, ?B/s]"
      ]
     },
     "metadata": {},
     "output_type": "display_data"
    },
    {
     "data": {
      "application/vnd.jupyter.widget-view+json": {
       "model_id": "1f37c5a991854824b719b14fc47f6792",
       "version_major": 2,
       "version_minor": 0
      },
      "text/plain": [
       "Downloading (…)e1d/data_config.json:   0%|          | 0.00/39.3k [00:00<?, ?B/s]"
      ]
     },
     "metadata": {},
     "output_type": "display_data"
    },
    {
     "data": {
      "application/vnd.jupyter.widget-view+json": {
       "model_id": "2d725cd2dd7245639d130dd6a46a8f64",
       "version_major": 2,
       "version_minor": 0
      },
      "text/plain": [
       "Downloading pytorch_model.bin:   0%|          | 0.00/438M [00:00<?, ?B/s]"
      ]
     },
     "metadata": {},
     "output_type": "display_data"
    },
    {
     "data": {
      "application/vnd.jupyter.widget-view+json": {
       "model_id": "dec1e8b17b2c4cb9b693bc9b12c6b933",
       "version_major": 2,
       "version_minor": 0
      },
      "text/plain": [
       "Downloading (…)nce_bert_config.json:   0%|          | 0.00/53.0 [00:00<?, ?B/s]"
      ]
     },
     "metadata": {},
     "output_type": "display_data"
    },
    {
     "data": {
      "application/vnd.jupyter.widget-view+json": {
       "model_id": "6e8ef7fa794d4a45aeddfda02131cde5",
       "version_major": 2,
       "version_minor": 0
      },
      "text/plain": [
       "Downloading (…)cial_tokens_map.json:   0%|          | 0.00/239 [00:00<?, ?B/s]"
      ]
     },
     "metadata": {},
     "output_type": "display_data"
    },
    {
     "data": {
      "application/vnd.jupyter.widget-view+json": {
       "model_id": "194c488dd9b249ccb154798fb890e84c",
       "version_major": 2,
       "version_minor": 0
      },
      "text/plain": [
       "Downloading (…)a8e1d/tokenizer.json:   0%|          | 0.00/466k [00:00<?, ?B/s]"
      ]
     },
     "metadata": {},
     "output_type": "display_data"
    },
    {
     "data": {
      "application/vnd.jupyter.widget-view+json": {
       "model_id": "a58e2f56a7a44a4f82dba5c0d78ad0fc",
       "version_major": 2,
       "version_minor": 0
      },
      "text/plain": [
       "Downloading (…)okenizer_config.json:   0%|          | 0.00/363 [00:00<?, ?B/s]"
      ]
     },
     "metadata": {},
     "output_type": "display_data"
    },
    {
     "data": {
      "application/vnd.jupyter.widget-view+json": {
       "model_id": "6c06a63ffca94ea2b2a1648a5e515510",
       "version_major": 2,
       "version_minor": 0
      },
      "text/plain": [
       "Downloading (…)8e1d/train_script.py:   0%|          | 0.00/13.1k [00:00<?, ?B/s]"
      ]
     },
     "metadata": {},
     "output_type": "display_data"
    },
    {
     "data": {
      "application/vnd.jupyter.widget-view+json": {
       "model_id": "e3c1e1a3ab8e4b399643138b2de35b1e",
       "version_major": 2,
       "version_minor": 0
      },
      "text/plain": [
       "Downloading (…)b20bca8e1d/vocab.txt:   0%|          | 0.00/232k [00:00<?, ?B/s]"
      ]
     },
     "metadata": {},
     "output_type": "display_data"
    },
    {
     "data": {
      "application/vnd.jupyter.widget-view+json": {
       "model_id": "909a432380694eb3b96d1fd11425ce6d",
       "version_major": 2,
       "version_minor": 0
      },
      "text/plain": [
       "Downloading (…)bca8e1d/modules.json:   0%|          | 0.00/349 [00:00<?, ?B/s]"
      ]
     },
     "metadata": {},
     "output_type": "display_data"
    }
   ],
   "source": [
    "from bertopic import BERTopic\n",
    "topic_model = BERTopic.load(\"davanstrien/chat_topics\")"
   ]
  },
  {
   "cell_type": "code",
   "execution_count": 17,
   "id": "a8baa0a6",
   "metadata": {},
   "outputs": [
    {
     "data": {
      "application/vnd.jupyter.widget-view+json": {
       "model_id": "86fa0b2cf98f402598fc9610355921a1",
       "version_major": 2,
       "version_minor": 0
      },
      "text/plain": [
       "Batches:   0%|          | 0/1 [00:00<?, ?it/s]"
      ]
     },
     "metadata": {},
     "output_type": "display_data"
    }
   ],
   "source": [
    "example = \"going with a budget of 4.5 to 5 lakhs maximum no I am currently working at 5 yeah so then I will do it 40% I\"\n",
    "topic, prob = topic_model.transform(example)"
   ]
  },
  {
   "cell_type": "code",
   "execution_count": 18,
   "id": "59d15111",
   "metadata": {},
   "outputs": [
    {
     "data": {
      "text/plain": [
       "[['hvac', 0.39111191034317017],\n",
       " ['remodeling', 0.3354414105415344],\n",
       " ['energy', 0.31473082304000854],\n",
       " ['kwh', 0.3112265467643738],\n",
       " ['housing', 0.30327293276786804],\n",
       " ['efficiency', 0.28826797008514404],\n",
       " ['heating', 0.2839772701263428],\n",
       " ['building', 0.28200939297676086],\n",
       " ['apartment', 0.27025389671325684],\n",
       " ['costs', 0.2518804371356964]]"
      ]
     },
     "execution_count": 18,
     "metadata": {},
     "output_type": "execute_result"
    }
   ],
   "source": [
    "topic_model.get_topic(topic[0])"
   ]
  },
  {
   "cell_type": "code",
   "execution_count": 19,
   "id": "ded11170",
   "metadata": {},
   "outputs": [],
   "source": [
    "def get_topics(text):\n",
    "    topic, prob = topic_model.transform(text)\n",
    "    return topic_model.get_topic(topic[0])\n",
    "    "
   ]
  },
  {
   "cell_type": "code",
   "execution_count": null,
   "id": "d2269d25",
   "metadata": {},
   "outputs": [],
   "source": []
  }
 ],
 "metadata": {
  "kernelspec": {
   "display_name": "Python 3 (ipykernel)",
   "language": "python",
   "name": "python3"
  },
  "language_info": {
   "codemirror_mode": {
    "name": "ipython",
    "version": 3
   },
   "file_extension": ".py",
   "mimetype": "text/x-python",
   "name": "python",
   "nbconvert_exporter": "python",
   "pygments_lexer": "ipython3",
   "version": "3.9.7"
  }
 },
 "nbformat": 4,
 "nbformat_minor": 5
}
